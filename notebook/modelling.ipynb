{
 "cells": [
  {
   "cell_type": "code",
   "execution_count": 1,
   "metadata": {},
   "outputs": [],
   "source": [
    "import pandas as pd\n",
    "import numpy as np\n",
    "import matplotlib.pyplot as plt\n",
    "import warnings\n",
    "from scipy.stats import spearmanr # since the data is not normal\n",
    "from sklearn.linear_model import LinearRegression, Lasso, Ridge\n",
    "from sklearn.tree import DecisionTreeRegressor\n",
    "from sklearn.ensemble import RandomForestRegressor, AdaBoostRegressor\n",
    "from sklearn.svm import LinearSVR\n",
    "from sklearn.neural_network import MLPRegressor\n",
    "from sklearn.feature_selection import RFE, SelectKBest, mutual_info_regression, f_regression\n",
    "from sklearn.metrics import mean_squared_error\n",
    "from sklearn.model_selection import train_test_split\n",
    "from sklearn.exceptions import ConvergenceWarning, DataConversionWarning\n",
    "from sklearn.model_selection import train_test_split\n",
    "from sklearn.preprocessing import StandardScaler\n",
    "from sklearn.neural_network import MLPRegressor\n",
    "from xgboost import XGBRegressor\n",
    "from catboost import CatBoostRegressor\n"
   ]
  },
  {
   "cell_type": "code",
   "execution_count": 2,
   "metadata": {},
   "outputs": [
    {
     "data": {
      "text/html": [
       "<div>\n",
       "<style scoped>\n",
       "    .dataframe tbody tr th:only-of-type {\n",
       "        vertical-align: middle;\n",
       "    }\n",
       "\n",
       "    .dataframe tbody tr th {\n",
       "        vertical-align: top;\n",
       "    }\n",
       "\n",
       "    .dataframe thead th {\n",
       "        text-align: right;\n",
       "    }\n",
       "</style>\n",
       "<table border=\"1\" class=\"dataframe\">\n",
       "  <thead>\n",
       "    <tr style=\"text-align: right;\">\n",
       "      <th></th>\n",
       "      <th>battery_power</th>\n",
       "      <th>blue</th>\n",
       "      <th>clock_speed</th>\n",
       "      <th>dual_sim</th>\n",
       "      <th>fc</th>\n",
       "      <th>four_g</th>\n",
       "      <th>int_memory</th>\n",
       "      <th>m_dep</th>\n",
       "      <th>mobile_wt</th>\n",
       "      <th>n_cores</th>\n",
       "      <th>...</th>\n",
       "      <th>px_height</th>\n",
       "      <th>px_width</th>\n",
       "      <th>ram</th>\n",
       "      <th>sc_h</th>\n",
       "      <th>sc_w</th>\n",
       "      <th>talk_time</th>\n",
       "      <th>three_g</th>\n",
       "      <th>touch_screen</th>\n",
       "      <th>wifi</th>\n",
       "      <th>price_range</th>\n",
       "    </tr>\n",
       "  </thead>\n",
       "  <tbody>\n",
       "    <tr>\n",
       "      <th>0</th>\n",
       "      <td>842</td>\n",
       "      <td>0</td>\n",
       "      <td>2.2</td>\n",
       "      <td>0</td>\n",
       "      <td>1.0</td>\n",
       "      <td>0.0</td>\n",
       "      <td>7.0</td>\n",
       "      <td>0.6</td>\n",
       "      <td>188.0</td>\n",
       "      <td>2.0</td>\n",
       "      <td>...</td>\n",
       "      <td>20.0</td>\n",
       "      <td>756.0</td>\n",
       "      <td>2549.0</td>\n",
       "      <td>9.0</td>\n",
       "      <td>7.0</td>\n",
       "      <td>19</td>\n",
       "      <td>0</td>\n",
       "      <td>0</td>\n",
       "      <td>1</td>\n",
       "      <td>1</td>\n",
       "    </tr>\n",
       "    <tr>\n",
       "      <th>1</th>\n",
       "      <td>1021</td>\n",
       "      <td>1</td>\n",
       "      <td>0.5</td>\n",
       "      <td>1</td>\n",
       "      <td>0.0</td>\n",
       "      <td>1.0</td>\n",
       "      <td>53.0</td>\n",
       "      <td>0.7</td>\n",
       "      <td>136.0</td>\n",
       "      <td>3.0</td>\n",
       "      <td>...</td>\n",
       "      <td>905.0</td>\n",
       "      <td>1988.0</td>\n",
       "      <td>2631.0</td>\n",
       "      <td>17.0</td>\n",
       "      <td>3.0</td>\n",
       "      <td>7</td>\n",
       "      <td>1</td>\n",
       "      <td>1</td>\n",
       "      <td>0</td>\n",
       "      <td>2</td>\n",
       "    </tr>\n",
       "    <tr>\n",
       "      <th>2</th>\n",
       "      <td>563</td>\n",
       "      <td>1</td>\n",
       "      <td>0.5</td>\n",
       "      <td>1</td>\n",
       "      <td>2.0</td>\n",
       "      <td>1.0</td>\n",
       "      <td>41.0</td>\n",
       "      <td>0.9</td>\n",
       "      <td>145.0</td>\n",
       "      <td>5.0</td>\n",
       "      <td>...</td>\n",
       "      <td>1263.0</td>\n",
       "      <td>1716.0</td>\n",
       "      <td>2603.0</td>\n",
       "      <td>11.0</td>\n",
       "      <td>2.0</td>\n",
       "      <td>9</td>\n",
       "      <td>1</td>\n",
       "      <td>1</td>\n",
       "      <td>0</td>\n",
       "      <td>2</td>\n",
       "    </tr>\n",
       "    <tr>\n",
       "      <th>3</th>\n",
       "      <td>615</td>\n",
       "      <td>1</td>\n",
       "      <td>2.5</td>\n",
       "      <td>0</td>\n",
       "      <td>0.0</td>\n",
       "      <td>0.0</td>\n",
       "      <td>10.0</td>\n",
       "      <td>0.8</td>\n",
       "      <td>131.0</td>\n",
       "      <td>6.0</td>\n",
       "      <td>...</td>\n",
       "      <td>1216.0</td>\n",
       "      <td>1786.0</td>\n",
       "      <td>2769.0</td>\n",
       "      <td>16.0</td>\n",
       "      <td>8.0</td>\n",
       "      <td>11</td>\n",
       "      <td>1</td>\n",
       "      <td>0</td>\n",
       "      <td>0</td>\n",
       "      <td>2</td>\n",
       "    </tr>\n",
       "    <tr>\n",
       "      <th>4</th>\n",
       "      <td>1821</td>\n",
       "      <td>1</td>\n",
       "      <td>1.2</td>\n",
       "      <td>0</td>\n",
       "      <td>13.0</td>\n",
       "      <td>1.0</td>\n",
       "      <td>44.0</td>\n",
       "      <td>0.6</td>\n",
       "      <td>141.0</td>\n",
       "      <td>2.0</td>\n",
       "      <td>...</td>\n",
       "      <td>1208.0</td>\n",
       "      <td>1212.0</td>\n",
       "      <td>1411.0</td>\n",
       "      <td>8.0</td>\n",
       "      <td>2.0</td>\n",
       "      <td>15</td>\n",
       "      <td>1</td>\n",
       "      <td>1</td>\n",
       "      <td>0</td>\n",
       "      <td>1</td>\n",
       "    </tr>\n",
       "  </tbody>\n",
       "</table>\n",
       "<p>5 rows × 21 columns</p>\n",
       "</div>"
      ],
      "text/plain": [
       "   battery_power  blue  clock_speed  dual_sim    fc  four_g  int_memory  \\\n",
       "0            842     0          2.2         0   1.0     0.0         7.0   \n",
       "1           1021     1          0.5         1   0.0     1.0        53.0   \n",
       "2            563     1          0.5         1   2.0     1.0        41.0   \n",
       "3            615     1          2.5         0   0.0     0.0        10.0   \n",
       "4           1821     1          1.2         0  13.0     1.0        44.0   \n",
       "\n",
       "   m_dep  mobile_wt  n_cores  ...  px_height  px_width     ram  sc_h  sc_w  \\\n",
       "0    0.6      188.0      2.0  ...       20.0     756.0  2549.0   9.0   7.0   \n",
       "1    0.7      136.0      3.0  ...      905.0    1988.0  2631.0  17.0   3.0   \n",
       "2    0.9      145.0      5.0  ...     1263.0    1716.0  2603.0  11.0   2.0   \n",
       "3    0.8      131.0      6.0  ...     1216.0    1786.0  2769.0  16.0   8.0   \n",
       "4    0.6      141.0      2.0  ...     1208.0    1212.0  1411.0   8.0   2.0   \n",
       "\n",
       "   talk_time  three_g  touch_screen  wifi  price_range  \n",
       "0         19        0             0     1            1  \n",
       "1          7        1             1     0            2  \n",
       "2          9        1             1     0            2  \n",
       "3         11        1             0     0            2  \n",
       "4         15        1             1     0            1  \n",
       "\n",
       "[5 rows x 21 columns]"
      ]
     },
     "execution_count": 2,
     "metadata": {},
     "output_type": "execute_result"
    }
   ],
   "source": [
    "train = pd.read_csv(\"../data/train.csv\")\n",
    "train.head()"
   ]
  },
  {
   "cell_type": "code",
   "execution_count": 3,
   "metadata": {},
   "outputs": [
    {
     "name": "stdout",
     "output_type": "stream",
     "text": [
      "<class 'pandas.core.frame.DataFrame'>\n",
      "RangeIndex: 2000 entries, 0 to 1999\n",
      "Data columns (total 21 columns):\n",
      " #   Column         Non-Null Count  Dtype  \n",
      "---  ------         --------------  -----  \n",
      " 0   battery_power  2000 non-null   int64  \n",
      " 1   blue           2000 non-null   int64  \n",
      " 2   clock_speed    2000 non-null   float64\n",
      " 3   dual_sim       2000 non-null   int64  \n",
      " 4   fc             1995 non-null   float64\n",
      " 5   four_g         1995 non-null   float64\n",
      " 6   int_memory     1995 non-null   float64\n",
      " 7   m_dep          1995 non-null   float64\n",
      " 8   mobile_wt      1996 non-null   float64\n",
      " 9   n_cores        1996 non-null   float64\n",
      " 10  pc             1995 non-null   float64\n",
      " 11  px_height      1996 non-null   float64\n",
      " 12  px_width       1998 non-null   float64\n",
      " 13  ram            1998 non-null   float64\n",
      " 14  sc_h           1999 non-null   float64\n",
      " 15  sc_w           1999 non-null   float64\n",
      " 16  talk_time      2000 non-null   int64  \n",
      " 17  three_g        2000 non-null   int64  \n",
      " 18  touch_screen   2000 non-null   int64  \n",
      " 19  wifi           2000 non-null   int64  \n",
      " 20  price_range    2000 non-null   int64  \n",
      "dtypes: float64(13), int64(8)\n",
      "memory usage: 328.2 KB\n"
     ]
    }
   ],
   "source": [
    "train.info()"
   ]
  },
  {
   "cell_type": "code",
   "execution_count": 4,
   "metadata": {},
   "outputs": [
    {
     "data": {
      "text/html": [
       "<div>\n",
       "<style scoped>\n",
       "    .dataframe tbody tr th:only-of-type {\n",
       "        vertical-align: middle;\n",
       "    }\n",
       "\n",
       "    .dataframe tbody tr th {\n",
       "        vertical-align: top;\n",
       "    }\n",
       "\n",
       "    .dataframe thead th {\n",
       "        text-align: right;\n",
       "    }\n",
       "</style>\n",
       "<table border=\"1\" class=\"dataframe\">\n",
       "  <thead>\n",
       "    <tr style=\"text-align: right;\">\n",
       "      <th></th>\n",
       "      <th>battery_power</th>\n",
       "      <th>blue</th>\n",
       "      <th>clock_speed</th>\n",
       "      <th>dual_sim</th>\n",
       "      <th>fc</th>\n",
       "      <th>four_g</th>\n",
       "      <th>int_memory</th>\n",
       "      <th>m_dep</th>\n",
       "      <th>mobile_wt</th>\n",
       "      <th>n_cores</th>\n",
       "      <th>pc</th>\n",
       "      <th>px_height</th>\n",
       "      <th>px_width</th>\n",
       "      <th>ram</th>\n",
       "      <th>sc_h</th>\n",
       "      <th>sc_w</th>\n",
       "      <th>talk_time</th>\n",
       "      <th>three_g</th>\n",
       "      <th>touch_screen</th>\n",
       "      <th>wifi</th>\n",
       "      <th>price_range</th>\n",
       "    </tr>\n",
       "  </thead>\n",
       "  <tbody>\n",
       "    <tr>\n",
       "      <th>count</th>\n",
       "      <td>1991.000000</td>\n",
       "      <td>1991.000000</td>\n",
       "      <td>1991.000000</td>\n",
       "      <td>1991.000000</td>\n",
       "      <td>1991.000000</td>\n",
       "      <td>1991.000000</td>\n",
       "      <td>1991.000000</td>\n",
       "      <td>1991.000000</td>\n",
       "      <td>1991.000000</td>\n",
       "      <td>1991.000000</td>\n",
       "      <td>1991.000000</td>\n",
       "      <td>1991.000000</td>\n",
       "      <td>1991.000000</td>\n",
       "      <td>1991.000000</td>\n",
       "      <td>1991.000000</td>\n",
       "      <td>1991.000000</td>\n",
       "      <td>1991.000000</td>\n",
       "      <td>1991.000000</td>\n",
       "      <td>1991.000000</td>\n",
       "      <td>1991.000000</td>\n",
       "      <td>1991.000000</td>\n",
       "    </tr>\n",
       "    <tr>\n",
       "      <th>mean</th>\n",
       "      <td>1238.270718</td>\n",
       "      <td>0.496233</td>\n",
       "      <td>1.522451</td>\n",
       "      <td>0.510799</td>\n",
       "      <td>4.307885</td>\n",
       "      <td>0.520844</td>\n",
       "      <td>32.074335</td>\n",
       "      <td>0.502009</td>\n",
       "      <td>140.263184</td>\n",
       "      <td>4.516323</td>\n",
       "      <td>9.909091</td>\n",
       "      <td>644.800603</td>\n",
       "      <td>1251.115520</td>\n",
       "      <td>2123.632848</td>\n",
       "      <td>12.307885</td>\n",
       "      <td>5.774485</td>\n",
       "      <td>11.001507</td>\n",
       "      <td>0.760924</td>\n",
       "      <td>0.501758</td>\n",
       "      <td>0.505274</td>\n",
       "      <td>1.499247</td>\n",
       "    </tr>\n",
       "    <tr>\n",
       "      <th>std</th>\n",
       "      <td>439.641057</td>\n",
       "      <td>0.500111</td>\n",
       "      <td>0.815499</td>\n",
       "      <td>0.500009</td>\n",
       "      <td>4.339735</td>\n",
       "      <td>0.499691</td>\n",
       "      <td>18.138177</td>\n",
       "      <td>0.288622</td>\n",
       "      <td>35.398777</td>\n",
       "      <td>2.291257</td>\n",
       "      <td>6.061019</td>\n",
       "      <td>442.951035</td>\n",
       "      <td>431.924893</td>\n",
       "      <td>1085.051293</td>\n",
       "      <td>4.213061</td>\n",
       "      <td>4.357385</td>\n",
       "      <td>5.464872</td>\n",
       "      <td>0.426626</td>\n",
       "      <td>0.500123</td>\n",
       "      <td>0.500098</td>\n",
       "      <td>1.118539</td>\n",
       "    </tr>\n",
       "    <tr>\n",
       "      <th>min</th>\n",
       "      <td>501.000000</td>\n",
       "      <td>0.000000</td>\n",
       "      <td>0.500000</td>\n",
       "      <td>0.000000</td>\n",
       "      <td>0.000000</td>\n",
       "      <td>0.000000</td>\n",
       "      <td>2.000000</td>\n",
       "      <td>0.100000</td>\n",
       "      <td>80.000000</td>\n",
       "      <td>1.000000</td>\n",
       "      <td>0.000000</td>\n",
       "      <td>0.000000</td>\n",
       "      <td>500.000000</td>\n",
       "      <td>256.000000</td>\n",
       "      <td>5.000000</td>\n",
       "      <td>0.000000</td>\n",
       "      <td>2.000000</td>\n",
       "      <td>0.000000</td>\n",
       "      <td>0.000000</td>\n",
       "      <td>0.000000</td>\n",
       "      <td>0.000000</td>\n",
       "    </tr>\n",
       "    <tr>\n",
       "      <th>25%</th>\n",
       "      <td>851.500000</td>\n",
       "      <td>0.000000</td>\n",
       "      <td>0.700000</td>\n",
       "      <td>0.000000</td>\n",
       "      <td>1.000000</td>\n",
       "      <td>0.000000</td>\n",
       "      <td>16.000000</td>\n",
       "      <td>0.200000</td>\n",
       "      <td>109.000000</td>\n",
       "      <td>3.000000</td>\n",
       "      <td>5.000000</td>\n",
       "      <td>282.500000</td>\n",
       "      <td>875.500000</td>\n",
       "      <td>1207.000000</td>\n",
       "      <td>9.000000</td>\n",
       "      <td>2.000000</td>\n",
       "      <td>6.000000</td>\n",
       "      <td>1.000000</td>\n",
       "      <td>0.000000</td>\n",
       "      <td>0.000000</td>\n",
       "      <td>0.000000</td>\n",
       "    </tr>\n",
       "    <tr>\n",
       "      <th>50%</th>\n",
       "      <td>1225.000000</td>\n",
       "      <td>0.000000</td>\n",
       "      <td>1.500000</td>\n",
       "      <td>1.000000</td>\n",
       "      <td>3.000000</td>\n",
       "      <td>1.000000</td>\n",
       "      <td>32.000000</td>\n",
       "      <td>0.500000</td>\n",
       "      <td>141.000000</td>\n",
       "      <td>4.000000</td>\n",
       "      <td>10.000000</td>\n",
       "      <td>564.000000</td>\n",
       "      <td>1247.000000</td>\n",
       "      <td>2147.000000</td>\n",
       "      <td>12.000000</td>\n",
       "      <td>5.000000</td>\n",
       "      <td>11.000000</td>\n",
       "      <td>1.000000</td>\n",
       "      <td>1.000000</td>\n",
       "      <td>1.000000</td>\n",
       "      <td>2.000000</td>\n",
       "    </tr>\n",
       "    <tr>\n",
       "      <th>75%</th>\n",
       "      <td>1615.500000</td>\n",
       "      <td>1.000000</td>\n",
       "      <td>2.200000</td>\n",
       "      <td>1.000000</td>\n",
       "      <td>7.000000</td>\n",
       "      <td>1.000000</td>\n",
       "      <td>48.000000</td>\n",
       "      <td>0.800000</td>\n",
       "      <td>170.000000</td>\n",
       "      <td>7.000000</td>\n",
       "      <td>15.000000</td>\n",
       "      <td>947.500000</td>\n",
       "      <td>1633.000000</td>\n",
       "      <td>3065.000000</td>\n",
       "      <td>16.000000</td>\n",
       "      <td>9.000000</td>\n",
       "      <td>16.000000</td>\n",
       "      <td>1.000000</td>\n",
       "      <td>1.000000</td>\n",
       "      <td>1.000000</td>\n",
       "      <td>2.000000</td>\n",
       "    </tr>\n",
       "    <tr>\n",
       "      <th>max</th>\n",
       "      <td>1998.000000</td>\n",
       "      <td>1.000000</td>\n",
       "      <td>3.000000</td>\n",
       "      <td>1.000000</td>\n",
       "      <td>19.000000</td>\n",
       "      <td>1.000000</td>\n",
       "      <td>64.000000</td>\n",
       "      <td>1.000000</td>\n",
       "      <td>200.000000</td>\n",
       "      <td>8.000000</td>\n",
       "      <td>20.000000</td>\n",
       "      <td>1960.000000</td>\n",
       "      <td>1998.000000</td>\n",
       "      <td>3998.000000</td>\n",
       "      <td>19.000000</td>\n",
       "      <td>18.000000</td>\n",
       "      <td>20.000000</td>\n",
       "      <td>1.000000</td>\n",
       "      <td>1.000000</td>\n",
       "      <td>1.000000</td>\n",
       "      <td>3.000000</td>\n",
       "    </tr>\n",
       "  </tbody>\n",
       "</table>\n",
       "</div>"
      ],
      "text/plain": [
       "       battery_power         blue  clock_speed     dual_sim           fc  \\\n",
       "count    1991.000000  1991.000000  1991.000000  1991.000000  1991.000000   \n",
       "mean     1238.270718     0.496233     1.522451     0.510799     4.307885   \n",
       "std       439.641057     0.500111     0.815499     0.500009     4.339735   \n",
       "min       501.000000     0.000000     0.500000     0.000000     0.000000   \n",
       "25%       851.500000     0.000000     0.700000     0.000000     1.000000   \n",
       "50%      1225.000000     0.000000     1.500000     1.000000     3.000000   \n",
       "75%      1615.500000     1.000000     2.200000     1.000000     7.000000   \n",
       "max      1998.000000     1.000000     3.000000     1.000000    19.000000   \n",
       "\n",
       "            four_g   int_memory        m_dep    mobile_wt      n_cores  \\\n",
       "count  1991.000000  1991.000000  1991.000000  1991.000000  1991.000000   \n",
       "mean      0.520844    32.074335     0.502009   140.263184     4.516323   \n",
       "std       0.499691    18.138177     0.288622    35.398777     2.291257   \n",
       "min       0.000000     2.000000     0.100000    80.000000     1.000000   \n",
       "25%       0.000000    16.000000     0.200000   109.000000     3.000000   \n",
       "50%       1.000000    32.000000     0.500000   141.000000     4.000000   \n",
       "75%       1.000000    48.000000     0.800000   170.000000     7.000000   \n",
       "max       1.000000    64.000000     1.000000   200.000000     8.000000   \n",
       "\n",
       "                pc    px_height     px_width          ram         sc_h  \\\n",
       "count  1991.000000  1991.000000  1991.000000  1991.000000  1991.000000   \n",
       "mean      9.909091   644.800603  1251.115520  2123.632848    12.307885   \n",
       "std       6.061019   442.951035   431.924893  1085.051293     4.213061   \n",
       "min       0.000000     0.000000   500.000000   256.000000     5.000000   \n",
       "25%       5.000000   282.500000   875.500000  1207.000000     9.000000   \n",
       "50%      10.000000   564.000000  1247.000000  2147.000000    12.000000   \n",
       "75%      15.000000   947.500000  1633.000000  3065.000000    16.000000   \n",
       "max      20.000000  1960.000000  1998.000000  3998.000000    19.000000   \n",
       "\n",
       "              sc_w    talk_time      three_g  touch_screen         wifi  \\\n",
       "count  1991.000000  1991.000000  1991.000000   1991.000000  1991.000000   \n",
       "mean      5.774485    11.001507     0.760924      0.501758     0.505274   \n",
       "std       4.357385     5.464872     0.426626      0.500123     0.500098   \n",
       "min       0.000000     2.000000     0.000000      0.000000     0.000000   \n",
       "25%       2.000000     6.000000     1.000000      0.000000     0.000000   \n",
       "50%       5.000000    11.000000     1.000000      1.000000     1.000000   \n",
       "75%       9.000000    16.000000     1.000000      1.000000     1.000000   \n",
       "max      18.000000    20.000000     1.000000      1.000000     1.000000   \n",
       "\n",
       "       price_range  \n",
       "count  1991.000000  \n",
       "mean      1.499247  \n",
       "std       1.118539  \n",
       "min       0.000000  \n",
       "25%       0.000000  \n",
       "50%       2.000000  \n",
       "75%       2.000000  \n",
       "max       3.000000  "
      ]
     },
     "execution_count": 4,
     "metadata": {},
     "output_type": "execute_result"
    }
   ],
   "source": [
    "# since the number of null values is small, we can just drop the null values\n",
    "train.dropna(inplace=True)\n",
    "pd.set_option('display.max_columns', 500)\n",
    "train.describe()"
   ]
  },
  {
   "cell_type": "code",
   "execution_count": 5,
   "metadata": {},
   "outputs": [
    {
     "name": "stdout",
     "output_type": "stream",
     "text": [
      "battery_power int\n",
      "blue boolean\n",
      "blue int\n",
      "clock_speed float\n",
      "dual_sim boolean\n",
      "dual_sim int\n",
      "fc int\n",
      "four_g boolean\n",
      "four_g int\n",
      "int_memory int\n",
      "m_dep float\n",
      "mobile_wt int\n",
      "n_cores int\n",
      "pc int\n",
      "px_height int\n",
      "px_width int\n",
      "ram int\n",
      "sc_h int\n",
      "sc_w int\n",
      "talk_time int\n",
      "three_g boolean\n",
      "three_g int\n",
      "touch_screen boolean\n",
      "touch_screen int\n",
      "wifi boolean\n",
      "wifi int\n",
      "price_range int\n"
     ]
    }
   ],
   "source": [
    "for i in train.columns:\n",
    "    if len(train[i].unique()) == 2:\n",
    "        print(i, \"boolean\")\n",
    "        train[i] = train[i].astype(bool)\n",
    "    if any(train[i] != train[i].astype(int)):\n",
    "        print(i, \"float\")\n",
    "        train[i] = train[i].astype(float)\n",
    "    else:\n",
    "        train[i] = train[i].astype(int)\n",
    "        print(i, \"int\")"
   ]
  },
  {
   "cell_type": "code",
   "execution_count": 6,
   "metadata": {},
   "outputs": [
    {
     "data": {
      "image/png": "[encoded data removed]",
      "text/plain": [
       "<Figure size 4000x500 with 13 Axes>"
      ]
     },
     "metadata": {},
     "output_type": "display_data"
    }
   ],
   "source": [
    "# let's check the distribution of all the data using pair plot\n",
    "numerical_cols = [\"battery_power\", \"clock_speed\", \"int_memory\", \"m_dep\",\"mobile_wt\",\"n_cores\" , \"pc\"\t, \"px_height\", \"px_width\", \"ram\",\"sc_h\",\"sc_w\",\"talk_time\"\t]\n",
    "\n",
    "# Example: Plot histograms of all columns beside each other\n",
    "fig, axs = plt.subplots(1, len(numerical_cols), figsize=(40, 5))  # Adjust figsize as needed\n",
    "\n",
    "for i, col in enumerate(numerical_cols):\n",
    "    axs[i].hist(train[col], bins=30)  # Adjust bins as needed\n",
    "    axs[i].set_xlabel(col)\n",
    "    axs[i].set_ylabel(\"Frequency\")\n",
    "    axs[i].grid(True)\n",
    "\n",
    "plt.tight_layout()\n",
    "plt.show()\n"
   ]
  },
  {
   "cell_type": "code",
   "execution_count": 7,
   "metadata": {},
   "outputs": [
    {
     "data": {
      "text/plain": [
       "battery_power    0.199277\n",
       "blue             0.021330\n",
       "clock_speed     -0.006675\n",
       "dual_sim         0.019108\n",
       "fc               0.024738\n",
       "four_g           0.015537\n",
       "int_memory       0.041812\n",
       "m_dep           -0.001396\n",
       "mobile_wt       -0.032168\n",
       "n_cores          0.004662\n",
       "pc               0.034716\n",
       "px_height        0.147956\n",
       "px_width         0.163319\n",
       "ram              0.917448\n",
       "sc_h             0.021643\n",
       "sc_w             0.038371\n",
       "talk_time        0.020511\n",
       "three_g          0.024896\n",
       "touch_screen    -0.030315\n",
       "wifi             0.019546\n",
       "price_range      1.000000\n",
       "Name: price_range, dtype: float64"
      ]
     },
     "execution_count": 7,
     "metadata": {},
     "output_type": "execute_result"
    }
   ],
   "source": [
    "train.corr().loc[\"price_range\"]\n",
    "# looks like there is a very strong correlation between price_range and RAM amount"
   ]
  },
  {
   "cell_type": "code",
   "execution_count": 8,
   "metadata": {},
   "outputs": [
    {
     "data": {
      "image/png": "[encoded data removed]",
      "text/plain": [
       "<Figure size 800x600 with 1 Axes>"
      ]
     },
     "metadata": {},
     "output_type": "display_data"
    }
   ],
   "source": [
    "grouped_data = train.groupby(\"price_range\")[\"ram\"].mean().reset_index()\n",
    "plt.figure(figsize=(8, 6))\n",
    "plt.bar(grouped_data[\"price_range\"], grouped_data[\"ram\"], color='skyblue')\n",
    "plt.xlabel(\"Price Range\")\n",
    "plt.ylabel(\"Average RAM\")\n",
    "plt.title(\"Average RAM by Price Range\")\n",
    "plt.xticks(grouped_data[\"price_range\"])\n",
    "plt.show()"
   ]
  },
  {
   "cell_type": "code",
   "execution_count": 9,
   "metadata": {},
   "outputs": [
    {
     "name": "stdout",
     "output_type": "stream",
     "text": [
      "{'fc': 18, 'px_height': 2, 'three_g': 476}\n",
      "{'fc': {'outliers': [18, 17, 18, 17, 17, 18, 17, 17, 18, 18, 18, 17, 18, 18, 19, 18, 18, 18], 'lower_bound': -8.0, 'upper_bound': 16.0}, 'px_height': {'outliers': [1949, 1960], 'lower_bound': -715.0, 'upper_bound': 1945.0}, 'three_g': {'outliers': [0, 0, 0, 0, 0, 0, 0, 0, 0, 0, 0, 0, 0, 0, 0, 0, 0, 0, 0, 0, 0, 0, 0, 0, 0, 0, 0, 0, 0, 0, 0, 0, 0, 0, 0, 0, 0, 0, 0, 0, 0, 0, 0, 0, 0, 0, 0, 0, 0, 0, 0, 0, 0, 0, 0, 0, 0, 0, 0, 0, 0, 0, 0, 0, 0, 0, 0, 0, 0, 0, 0, 0, 0, 0, 0, 0, 0, 0, 0, 0, 0, 0, 0, 0, 0, 0, 0, 0, 0, 0, 0, 0, 0, 0, 0, 0, 0, 0, 0, 0, 0, 0, 0, 0, 0, 0, 0, 0, 0, 0, 0, 0, 0, 0, 0, 0, 0, 0, 0, 0, 0, 0, 0, 0, 0, 0, 0, 0, 0, 0, 0, 0, 0, 0, 0, 0, 0, 0, 0, 0, 0, 0, 0, 0, 0, 0, 0, 0, 0, 0, 0, 0, 0, 0, 0, 0, 0, 0, 0, 0, 0, 0, 0, 0, 0, 0, 0, 0, 0, 0, 0, 0, 0, 0, 0, 0, 0, 0, 0, 0, 0, 0, 0, 0, 0, 0, 0, 0, 0, 0, 0, 0, 0, 0, 0, 0, 0, 0, 0, 0, 0, 0, 0, 0, 0, 0, 0, 0, 0, 0, 0, 0, 0, 0, 0, 0, 0, 0, 0, 0, 0, 0, 0, 0, 0, 0, 0, 0, 0, 0, 0, 0, 0, 0, 0, 0, 0, 0, 0, 0, 0, 0, 0, 0, 0, 0, 0, 0, 0, 0, 0, 0, 0, 0, 0, 0, 0, 0, 0, 0, 0, 0, 0, 0, 0, 0, 0, 0, 0, 0, 0, 0, 0, 0, 0, 0, 0, 0, 0, 0, 0, 0, 0, 0, 0, 0, 0, 0, 0, 0, 0, 0, 0, 0, 0, 0, 0, 0, 0, 0, 0, 0, 0, 0, 0, 0, 0, 0, 0, 0, 0, 0, 0, 0, 0, 0, 0, 0, 0, 0, 0, 0, 0, 0, 0, 0, 0, 0, 0, 0, 0, 0, 0, 0, 0, 0, 0, 0, 0, 0, 0, 0, 0, 0, 0, 0, 0, 0, 0, 0, 0, 0, 0, 0, 0, 0, 0, 0, 0, 0, 0, 0, 0, 0, 0, 0, 0, 0, 0, 0, 0, 0, 0, 0, 0, 0, 0, 0, 0, 0, 0, 0, 0, 0, 0, 0, 0, 0, 0, 0, 0, 0, 0, 0, 0, 0, 0, 0, 0, 0, 0, 0, 0, 0, 0, 0, 0, 0, 0, 0, 0, 0, 0, 0, 0, 0, 0, 0, 0, 0, 0, 0, 0, 0, 0, 0, 0, 0, 0, 0, 0, 0, 0, 0, 0, 0, 0, 0, 0, 0, 0, 0, 0, 0, 0, 0, 0, 0, 0, 0, 0, 0, 0, 0, 0, 0, 0, 0, 0, 0, 0, 0, 0, 0, 0, 0, 0, 0, 0, 0, 0, 0, 0, 0, 0, 0], 'lower_bound': 1.0, 'upper_bound': 1.0}}\n"
     ]
    }
   ],
   "source": [
    "def find_outliers(df):\n",
    "    outliers = {}\n",
    "    values = {}\n",
    "    for col in df.columns:\n",
    "        if pd.api.types.is_numeric_dtype(df[col]):\n",
    "            Q1 = df[col].quantile(0.25)\n",
    "            Q3 = df[col].quantile(0.75)\n",
    "            IQR = Q3 - Q1\n",
    "            lower_bound = Q1 - 1.5 * IQR\n",
    "            upper_bound = Q3 + 1.5 * IQR\n",
    "            col_outlier = df[(df[col] < lower_bound) | (df[col] > upper_bound)]\n",
    "            if col_outlier.shape[0] > 0:    \n",
    "                outliers[col] = col_outlier.shape[0]\n",
    "                values[col] = {\n",
    "                    \"outliers\": list(col_outlier[col])\n",
    "                    , \"lower_bound\": lower_bound\n",
    "                    , \"upper_bound\": upper_bound\n",
    "                }   \n",
    "    return outliers, values\n",
    "\n",
    "# Find outliers\n",
    "outliers, values = find_outliers(train)\n",
    "print(outliers)\n",
    "print(values)\n"
   ]
  },
  {
   "cell_type": "markdown",
   "metadata": {},
   "source": [
    "Regarding the outliers:\n",
    "<br>\n",
    "1- the outliers in FC give are on the higher end which we explore in the next section\n",
    "<br>\n",
    "2- the outliers in px_height seem to be very close to the upper bound which gives a good signal\n",
    "<br>\n",
    "3- the ouliers in three_g means nothing since it's a catigorical unbalanced variable"
   ]
  },
  {
   "cell_type": "code",
   "execution_count": 10,
   "metadata": {},
   "outputs": [
    {
     "data": {
      "image/png": "[encoded data removed]",
      "text/plain": [
       "<Figure size 640x480 with 1 Axes>"
      ]
     },
     "metadata": {},
     "output_type": "display_data"
    }
   ],
   "source": [
    "plt.hist(train['fc'])\n",
    "plt.show()"
   ]
  },
  {
   "cell_type": "code",
   "execution_count": 11,
   "metadata": {},
   "outputs": [
    {
     "data": {
      "text/plain": [
       "SignificanceResult(statistic=0.013963063585717606, pvalue=0.5864696164493328)"
      ]
     },
     "execution_count": 11,
     "metadata": {},
     "output_type": "execute_result"
    }
   ],
   "source": [
    "# we can conclude that there is a lot of phones here that don't include a front camera so their pixel size is typed as 0\n",
    "# this causes other records to be percieved as outliers which is not the case\n",
    "# We will remove all records with 0 pixel size and then test the correlations again\n",
    "train_temp = train[train['fc'] != 0]\n",
    "spearmanr(train_temp['fc'], train_temp['price_range'])"
   ]
  },
  {
   "cell_type": "code",
   "execution_count": 12,
   "metadata": {},
   "outputs": [
    {
     "data": {
      "text/plain": [
       "SignificanceResult(statistic=0.015337291510745345, pvalue=0.5501729934653677)"
      ]
     },
     "execution_count": 12,
     "metadata": {},
     "output_type": "execute_result"
    }
   ],
   "source": [
    "# let's test the biserial correlation coefficient\n",
    "import scipy.stats as stats\n",
    "temp_range = train_temp['price_range'].astype('category').cat.codes\n",
    "anova = stats.pointbiserialr(temp_range, train_temp['fc'])\n",
    "anova"
   ]
  },
  {
   "cell_type": "markdown",
   "metadata": {},
   "source": [
    "The front camera variable doesn't seem to affect the price range directly "
   ]
  },
  {
   "cell_type": "code",
   "execution_count": 13,
   "metadata": {},
   "outputs": [
    {
     "name": "stdout",
     "output_type": "stream",
     "text": [
      "Chi-square statistic: 2.0438681719624183\n",
      "p-value: 0.5633518045128003\n"
     ]
    }
   ],
   "source": [
    "# now let's convert the front camera into a binary variable and test again\n",
    "# Create a contingency table\n",
    "fc_bin = (train[\"fc\"] == 0).astype(int)\n",
    "contingency_table = pd.crosstab(fc_bin, train[\"price_range\"])\n",
    "\n",
    "# Perform Chi-square test\n",
    "chi2, p_value, _, _ = stats.chi2_contingency(contingency_table)\n",
    "print(\"Chi-square statistic:\", chi2)\n",
    "print(\"p-value:\", p_value)"
   ]
  },
  {
   "cell_type": "code",
   "execution_count": 14,
   "metadata": {},
   "outputs": [
    {
     "data": {
      "text/html": [
       "<div>\n",
       "<style scoped>\n",
       "    .dataframe tbody tr th:only-of-type {\n",
       "        vertical-align: middle;\n",
       "    }\n",
       "\n",
       "    .dataframe tbody tr th {\n",
       "        vertical-align: top;\n",
       "    }\n",
       "\n",
       "    .dataframe thead th {\n",
       "        text-align: right;\n",
       "    }\n",
       "</style>\n",
       "<table border=\"1\" class=\"dataframe\">\n",
       "  <thead>\n",
       "    <tr style=\"text-align: right;\">\n",
       "      <th></th>\n",
       "      <th>px_height</th>\n",
       "      <th>px_width</th>\n",
       "    </tr>\n",
       "  </thead>\n",
       "  <tbody>\n",
       "    <tr>\n",
       "      <th>0</th>\n",
       "      <td>20</td>\n",
       "      <td>756</td>\n",
       "    </tr>\n",
       "    <tr>\n",
       "      <th>32</th>\n",
       "      <td>85</td>\n",
       "      <td>1152</td>\n",
       "    </tr>\n",
       "    <tr>\n",
       "      <th>47</th>\n",
       "      <td>27</td>\n",
       "      <td>774</td>\n",
       "    </tr>\n",
       "    <tr>\n",
       "      <th>73</th>\n",
       "      <td>4</td>\n",
       "      <td>638</td>\n",
       "    </tr>\n",
       "    <tr>\n",
       "      <th>86</th>\n",
       "      <td>96</td>\n",
       "      <td>741</td>\n",
       "    </tr>\n",
       "    <tr>\n",
       "      <th>...</th>\n",
       "      <td>...</td>\n",
       "      <td>...</td>\n",
       "    </tr>\n",
       "    <tr>\n",
       "      <th>1948</th>\n",
       "      <td>88</td>\n",
       "      <td>709</td>\n",
       "    </tr>\n",
       "    <tr>\n",
       "      <th>1954</th>\n",
       "      <td>64</td>\n",
       "      <td>745</td>\n",
       "    </tr>\n",
       "    <tr>\n",
       "      <th>1963</th>\n",
       "      <td>3</td>\n",
       "      <td>629</td>\n",
       "    </tr>\n",
       "    <tr>\n",
       "      <th>1972</th>\n",
       "      <td>42</td>\n",
       "      <td>807</td>\n",
       "    </tr>\n",
       "    <tr>\n",
       "      <th>1991</th>\n",
       "      <td>4</td>\n",
       "      <td>743</td>\n",
       "    </tr>\n",
       "  </tbody>\n",
       "</table>\n",
       "<p>148 rows × 2 columns</p>\n",
       "</div>"
      ],
      "text/plain": [
       "      px_height  px_width\n",
       "0            20       756\n",
       "32           85      1152\n",
       "47           27       774\n",
       "73            4       638\n",
       "86           96       741\n",
       "...         ...       ...\n",
       "1948         88       709\n",
       "1954         64       745\n",
       "1963          3       629\n",
       "1972         42       807\n",
       "1991          4       743\n",
       "\n",
       "[148 rows x 2 columns]"
      ]
     },
     "execution_count": 14,
     "metadata": {},
     "output_type": "execute_result"
    }
   ],
   "source": [
    "# upon exploring the px_height variable I found that there are very small values which doesn't make since at all since minimum pixel height \n",
    "# should be at least 240 as far as I know.\n",
    "train[[\"px_height\", \"px_width\"]][train[\"px_height\"] < 100]"
   ]
  },
  {
   "cell_type": "code",
   "execution_count": 15,
   "metadata": {},
   "outputs": [
    {
     "data": {
      "text/html": [
       "<div>\n",
       "<style scoped>\n",
       "    .dataframe tbody tr th:only-of-type {\n",
       "        vertical-align: middle;\n",
       "    }\n",
       "\n",
       "    .dataframe tbody tr th {\n",
       "        vertical-align: top;\n",
       "    }\n",
       "\n",
       "    .dataframe thead th {\n",
       "        text-align: right;\n",
       "    }\n",
       "</style>\n",
       "<table border=\"1\" class=\"dataframe\">\n",
       "  <thead>\n",
       "    <tr style=\"text-align: right;\">\n",
       "      <th></th>\n",
       "      <th>px_height</th>\n",
       "      <th>px_width</th>\n",
       "    </tr>\n",
       "  </thead>\n",
       "  <tbody>\n",
       "    <tr>\n",
       "      <th>px_height</th>\n",
       "      <td>1.000000</td>\n",
       "      <td>0.509599</td>\n",
       "    </tr>\n",
       "    <tr>\n",
       "      <th>px_width</th>\n",
       "      <td>0.509599</td>\n",
       "      <td>1.000000</td>\n",
       "    </tr>\n",
       "  </tbody>\n",
       "</table>\n",
       "</div>"
      ],
      "text/plain": [
       "           px_height  px_width\n",
       "px_height   1.000000  0.509599\n",
       "px_width    0.509599  1.000000"
      ]
     },
     "execution_count": 15,
     "metadata": {},
     "output_type": "execute_result"
    }
   ],
   "source": [
    "# though the number inside px_height don't make sense, the correlation is expected since probably there is a correlation between how big \n",
    "# a screen is and how high the screen is.\n",
    "# maybe it's normalized to a different scale? not sure\n",
    "train[[\"px_height\", \"px_width\"]].corr()"
   ]
  },
  {
   "cell_type": "markdown",
   "metadata": {},
   "source": [
    "# Model Training"
   ]
  },
  {
   "cell_type": "markdown",
   "metadata": {},
   "source": [
    "Since the price range is ordinal, a regression model will be better suited for this data"
   ]
  },
  {
   "cell_type": "code",
   "execution_count": 16,
   "metadata": {},
   "outputs": [],
   "source": [
    "# Lets train a linear regression model to predict the price of the device\n",
    "\n",
    "\n",
    "X_train, X_test, y_train_notscaled, y_test = train_test_split(train.drop(columns=[\"price_range\"]), train[\"price_range\"], test_size=0.2, random_state=42)\n",
    "scaler = StandardScaler()\n",
    "X_train = scaler.fit_transform(X_train)\n",
    "X_test = scaler.transform(X_test)\n",
    "scaler_label = StandardScaler()\n",
    "y_train = scaler_label.fit_transform(y_train_notscaled.values.reshape(-1, 1))\n"
   ]
  },
  {
   "cell_type": "code",
   "execution_count": 17,
   "metadata": {},
   "outputs": [
    {
     "name": "stdout",
     "output_type": "stream",
     "text": [
      "model: Linear Regression\n",
      "mse with RFE            : 0.09837859268348435\n",
      "mse with SelectKBest    : 0.0985019952740576\n",
      "mse no feature selection: 0.09843372810736171\n",
      "------------------------------------\n",
      "model: Lasso Regression\n",
      "mse with RFE            : 1.2675899164577058\n",
      "mse with SelectKBest    : 1.2675899164577058\n",
      "mse no feature selection: 1.2675899164577058\n",
      "------------------------------------\n",
      "model: Ridge Regression\n",
      "mse with RFE            : 0.09840123686807618\n",
      "mse with SelectKBest    : 0.09863710534086291\n",
      "mse no feature selection: 0.09845506113564062\n",
      "------------------------------------\n",
      "model: Decision Tree Regressor\n",
      "mse with RFE            : 0.17794486215538843\n",
      "mse with SelectKBest    : 0.19548872180451127\n",
      "mse no feature selection: 0.21052631578947367\n",
      "------------------------------------\n",
      "model: Random Forest Regressor\n",
      "mse with RFE            : 0.07719573934837089\n",
      "mse with SelectKBest    : 0.0712551378446115\n",
      "mse no feature selection: 0.07534511278195487\n",
      "------------------------------------\n",
      "model: Support Vector Regressor\n",
      "mse with RFE            : 0.0996213911996632\n",
      "mse with SelectKBest    : 0.09897092987343346\n",
      "mse no feature selection: 0.09901482531697631\n",
      "------------------------------------\n"
     ]
    }
   ],
   "source": [
    "# Suppress future warnings and convergence warnings\n",
    "warnings.filterwarnings(\"ignore\", category=FutureWarning)\n",
    "warnings.filterwarnings(\"ignore\", category=ConvergenceWarning)\n",
    "warnings.filterwarnings(\"ignore\", category=DataConversionWarning)\n",
    "\n",
    "models = {\n",
    "    \"Linear Regression\": LinearRegression(),\n",
    "    \"Lasso Regression\": Lasso(),\n",
    "    \"Ridge Regression\": Ridge(),\n",
    "    \"Decision Tree Regressor\": DecisionTreeRegressor(),\n",
    "    \"Random Forest Regressor\": RandomForestRegressor(),\n",
    "    \"Support Vector Regressor\": LinearSVR()\n",
    "}\n",
    "def apply_rfe(model, X_train, y_train, X_test, n_features_to_select=5):\n",
    "    selector = RFE(model, n_features_to_select=n_features_to_select, step=1)\n",
    "    selector = selector.fit(X_train, y_train)\n",
    "    return selector.transform(X_train), selector.transform(X_test)\n",
    "def apply_selectkbest(X_train, y_train, X_test, k=5):\n",
    "    selector = SelectKBest(score_func=mutual_info_regression, k=k)\n",
    "    selector.fit(X_train, y_train)\n",
    "    return selector.transform(X_train), selector.transform(X_test)\n",
    "def evaluate_model(model, X_train, y_train, X_test, y_test):\n",
    "    model.fit(X_train, y_train)\n",
    "    y_pred = model.predict(X_test)\n",
    "    y_pred = scaler_label.inverse_transform(np.array(y_pred).reshape(-1, 1))\n",
    "    return mean_squared_error(y_test, y_pred)\n",
    "\n",
    "n_features = 15 # tried  from 10 -> 20 manually .. 15 seemed like it produced the best results overall\n",
    "\n",
    "for name, model in models.items():\n",
    "    print(f\"model: {name}\")\n",
    "    X_train_rfe, X_test_rfe = apply_rfe(model, X_train, y_train, X_test, n_features) #using RFE\n",
    "    mse_rfe = evaluate_model(model, X_train_rfe, y_train, X_test_rfe, y_test)\n",
    "    print(f\"mse with RFE            : {mse_rfe}\")\n",
    "    X_train_kbest, X_test_kbest = apply_selectkbest(X_train, y_train, X_test, n_features) # using kbest\n",
    "    mse_kbest = evaluate_model(model, X_train_kbest, y_train, X_test_kbest, y_test)\n",
    "    print(f\"mse with SelectKBest    : {mse_kbest}\")\n",
    "    mse_no_fs = evaluate_model(model, X_train, y_train, X_test, y_test) # no featurn selection\n",
    "    print(f\"mse no feature selection: {mse_no_fs}\")\n",
    "    print(\"------------------------------------\")\n"
   ]
  },
  {
   "cell_type": "code",
   "execution_count": 18,
   "metadata": {},
   "outputs": [
    {
     "name": "stdout",
     "output_type": "stream",
     "text": [
      "Mean Squared Error for MLPRegressor: 0.15789082425161338\n"
     ]
    }
   ],
   "source": [
    "mlp_regressor = MLPRegressor(hidden_layer_sizes=(50, 50), activation='relu', solver='adam', max_iter=500, alpha=0.0001)\n",
    "mlp_regressor.fit(X_train, y_train)\n",
    "y_pred = mlp_regressor.predict(X_test)\n",
    "y_pred = scaler_label.inverse_transform(np.array(y_pred).reshape(-1, 1))\n",
    "mse = mean_squared_error(y_test, y_pred)\n",
    "print(\"Mean Squared Error for MLPRegressor:\", mse)"
   ]
  },
  {
   "cell_type": "code",
   "execution_count": 19,
   "metadata": {},
   "outputs": [
    {
     "name": "stdout",
     "output_type": "stream",
     "text": [
      "Mean Squared Error for XGBRegressor: 0.07594236319851534\n"
     ]
    }
   ],
   "source": [
    "xgbregressor_regressor = XGBRegressor(max_depth = 5, learning_rate = .1, n_estimators = 500)\n",
    "xgbregressor_regressor.fit(X_train, y_train_notscaled)\n",
    "y_pred = xgbregressor_regressor.predict(X_test)\n",
    "mse = mean_squared_error(y_test, y_pred)\n",
    "print(\"Mean Squared Error for XGBRegressor:\", mse)"
   ]
  },
  {
   "cell_type": "code",
   "execution_count": 20,
   "metadata": {},
   "outputs": [
    {
     "name": "stdout",
     "output_type": "stream",
     "text": [
      "Mean Squared Error for CatBoost: 0.07294964775003009\n"
     ]
    }
   ],
   "source": [
    "catboost_regressor = CatBoostRegressor(verbose=0)\n",
    "catboost_regressor.fit(X_train, y_train_notscaled)\n",
    "y_pred = catboost_regressor.predict(X_test)\n",
    "mse = mean_squared_error(y_test, y_pred)\n",
    "print(\"Mean Squared Error for CatBoost:\", mse)"
   ]
  },
  {
   "cell_type": "code",
   "execution_count": 29,
   "metadata": {},
   "outputs": [
    {
     "name": "stdout",
     "output_type": "stream",
     "text": [
      "Mean Squared Error for Adaboost: 0.06516290726817042\n"
     ]
    }
   ],
   "source": [
    "from sklearn.ensemble import AdaBoostRegressor\n",
    "base_estimator = DecisionTreeRegressor()\n",
    "adaboost_regressor = AdaBoostRegressor(base_estimator=DecisionTreeRegressor(), n_estimators=500, learning_rate=1.0, random_state=42)\n",
    "adaboost_regressor.fit(X_train, y_train_notscaled)\n",
    "y_pred = adaboost_regressor.predict(X_test)\n",
    "mse = mean_squared_error(y_test, y_pred)\n",
    "print(\"Mean Squared Error for Adaboost:\", mse)\n"
   ]
  },
  {
   "cell_type": "code",
   "execution_count": 32,
   "metadata": {},
   "outputs": [
    {
     "name": "stdout",
     "output_type": "stream",
     "text": [
      "Accuracy of the model 0.9348370927318296\n"
     ]
    }
   ],
   "source": [
    "transformed_classes = np.clip(y_pred, 0, 3)\n",
    "print(\"Accuracy of the model\", sum(transformed_classes==y_test)/len(y_test))"
   ]
  },
  {
   "cell_type": "code",
   "execution_count": 23,
   "metadata": {},
   "outputs": [
    {
     "data": {
      "image/png": "[encoded data removed]",
      "text/plain": [
       "<Figure size 640x480 with 2 Axes>"
      ]
     },
     "metadata": {},
     "output_type": "display_data"
    }
   ],
   "source": [
    "from sklearn.metrics import confusion_matrix, ConfusionMatrixDisplay\n",
    "cm = confusion_matrix(y_test, transformed_classes)\n",
    "disp = ConfusionMatrixDisplay(confusion_matrix=cm, display_labels=[0,1,2,3])\n",
    "disp.plot()\n",
    "plt.show()"
   ]
  },
  {
   "cell_type": "code",
   "execution_count": 24,
   "metadata": {},
   "outputs": [
    {
     "data": {
      "text/plain": [
       "['../model/adaboost_model.pkl']"
      ]
     },
     "execution_count": 24,
     "metadata": {},
     "output_type": "execute_result"
    }
   ],
   "source": [
    "import joblib\n",
    "joblib.dump(adaboost_regressor, '../model/adaboost_model.pkl')\n"
   ]
  },
  {
   "cell_type": "code",
   "execution_count": 25,
   "metadata": {},
   "outputs": [
    {
     "data": {
      "text/plain": [
       "['../model/normalizer.pkl']"
      ]
     },
     "execution_count": 25,
     "metadata": {},
     "output_type": "execute_result"
    }
   ],
   "source": [
    "joblib.dump(scaler, \"../model/normalizer.pkl\")"
   ]
  }
 ],
 "metadata": {
  "kernelspec": {
   "display_name": "Python 3",
   "language": "python",
   "name": "python3"
  },
  "language_info": {
   "codemirror_mode": {
    "name": "ipython",
    "version": 3
   },
   "file_extension": ".py",
   "mimetype": "text/x-python",
   "name": "python",
   "nbconvert_exporter": "python",
   "pygments_lexer": "ipython3",
   "version": "3.10.0"
  }
 },
 "nbformat": 4,
 "nbformat_minor": 2
}
